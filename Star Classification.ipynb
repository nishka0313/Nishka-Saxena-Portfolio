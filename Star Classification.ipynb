{
 "cells": [
  {
   "cell_type": "markdown",
   "metadata": {},
   "source": [
    "<h1>Project #2: You and Data Science</h1>"
   ]
  },
  {
   "cell_type": "markdown",
   "metadata": {},
   "source": [
    "<h1>Dataset</h1>"
   ]
  },
  {
   "cell_type": "markdown",
   "metadata": {},
   "source": [
    "For this project, I’m using the \"Star Classification\" dataset, which includes various physical properties of stars, including temperature, luminosity, and radius, and their corresponding star class types. As an astrophysics and data science major, this dataset and project combines my two passions to apply data science techinques to a topic that I am passionate about. \n",
    "\n",
    "I acquired this dataset through Kaggle (https://www.kaggle.com/datasets/deepu1109/star-dataset) and given its clear and thorough classfication, decided to use it to explore star patterns and the similarities and differences between their classification types and physical properties. Using this data, I want to be able to analyze stellar classification and improve our understanding of stars. \n",
    "\n",
    "The dataset classifies stars into six categories, represented through the numbers:\n",
    "- 0 = Brown Dwarf  \n",
    "\n",
    "- 1 = Red Dwarf  \n",
    "\n",
    "- 2 = White Dwarf  \n",
    "\n",
    "- 3 = Main Sequence  \n",
    "\n",
    "- 4 = Supergiant  \n",
    "\n",
    "- 5 = Hypergiant\n",
    "\n",
    "Some important things to note about stars are their properties. In simple terms, these include:\n",
    "- Luminosity:\n",
    "How much energy or light a star gives off.\n",
    "\n",
    "- Temperature:\n",
    "How hot the surface of the star is.\n",
    "\n",
    "- Absolute Magnitude:\n",
    "How bright the star actually is, no matter how far away it is.\n",
    "\n",
    "- Radius:\n",
    "How big the star is from its center to its surface.\n",
    "\n",
    "- Star Color:\n",
    "The color of the star, which tells us how hot it is.\n",
    "\n",
    "- Spectral Class:\n",
    "A letter used to group stars by their temperature and color.\n",
    "\n",
    "\n",
    "\n",
    "First, let's load the dataset into a pandas DataFrame and take a look at its basic structure."
   ]
  },
  {
   "cell_type": "code",
   "execution_count": 112,
   "metadata": {},
   "outputs": [
    {
     "data": {
      "text/html": [
       "<div>\n",
       "<style scoped>\n",
       "    .dataframe tbody tr th:only-of-type {\n",
       "        vertical-align: middle;\n",
       "    }\n",
       "\n",
       "    .dataframe tbody tr th {\n",
       "        vertical-align: top;\n",
       "    }\n",
       "\n",
       "    .dataframe thead th {\n",
       "        text-align: right;\n",
       "    }\n",
       "</style>\n",
       "<table border=\"1\" class=\"dataframe\">\n",
       "  <thead>\n",
       "    <tr style=\"text-align: right;\">\n",
       "      <th></th>\n",
       "      <th>Temperature (K)</th>\n",
       "      <th>Luminosity(L/Lo)</th>\n",
       "      <th>Radius(R/Ro)</th>\n",
       "      <th>Absolute magnitude(Mv)</th>\n",
       "      <th>Star type</th>\n",
       "      <th>Star color</th>\n",
       "      <th>Spectral Class</th>\n",
       "    </tr>\n",
       "  </thead>\n",
       "  <tbody>\n",
       "    <tr>\n",
       "      <th>0</th>\n",
       "      <td>3068</td>\n",
       "      <td>0.002400</td>\n",
       "      <td>0.1700</td>\n",
       "      <td>16.12</td>\n",
       "      <td>0</td>\n",
       "      <td>Red</td>\n",
       "      <td>M</td>\n",
       "    </tr>\n",
       "    <tr>\n",
       "      <th>1</th>\n",
       "      <td>3042</td>\n",
       "      <td>0.000500</td>\n",
       "      <td>0.1542</td>\n",
       "      <td>16.60</td>\n",
       "      <td>0</td>\n",
       "      <td>Red</td>\n",
       "      <td>M</td>\n",
       "    </tr>\n",
       "    <tr>\n",
       "      <th>2</th>\n",
       "      <td>2600</td>\n",
       "      <td>0.000300</td>\n",
       "      <td>0.1020</td>\n",
       "      <td>18.70</td>\n",
       "      <td>0</td>\n",
       "      <td>Red</td>\n",
       "      <td>M</td>\n",
       "    </tr>\n",
       "    <tr>\n",
       "      <th>3</th>\n",
       "      <td>2800</td>\n",
       "      <td>0.000200</td>\n",
       "      <td>0.1600</td>\n",
       "      <td>16.65</td>\n",
       "      <td>0</td>\n",
       "      <td>Red</td>\n",
       "      <td>M</td>\n",
       "    </tr>\n",
       "    <tr>\n",
       "      <th>4</th>\n",
       "      <td>1939</td>\n",
       "      <td>0.000138</td>\n",
       "      <td>0.1030</td>\n",
       "      <td>20.06</td>\n",
       "      <td>0</td>\n",
       "      <td>Red</td>\n",
       "      <td>M</td>\n",
       "    </tr>\n",
       "    <tr>\n",
       "      <th>...</th>\n",
       "      <td>...</td>\n",
       "      <td>...</td>\n",
       "      <td>...</td>\n",
       "      <td>...</td>\n",
       "      <td>...</td>\n",
       "      <td>...</td>\n",
       "      <td>...</td>\n",
       "    </tr>\n",
       "    <tr>\n",
       "      <th>235</th>\n",
       "      <td>38940</td>\n",
       "      <td>374830.000000</td>\n",
       "      <td>1356.0000</td>\n",
       "      <td>-9.93</td>\n",
       "      <td>5</td>\n",
       "      <td>Blue</td>\n",
       "      <td>O</td>\n",
       "    </tr>\n",
       "    <tr>\n",
       "      <th>236</th>\n",
       "      <td>30839</td>\n",
       "      <td>834042.000000</td>\n",
       "      <td>1194.0000</td>\n",
       "      <td>-10.63</td>\n",
       "      <td>5</td>\n",
       "      <td>Blue</td>\n",
       "      <td>O</td>\n",
       "    </tr>\n",
       "    <tr>\n",
       "      <th>237</th>\n",
       "      <td>8829</td>\n",
       "      <td>537493.000000</td>\n",
       "      <td>1423.0000</td>\n",
       "      <td>-10.73</td>\n",
       "      <td>5</td>\n",
       "      <td>White</td>\n",
       "      <td>A</td>\n",
       "    </tr>\n",
       "    <tr>\n",
       "      <th>238</th>\n",
       "      <td>9235</td>\n",
       "      <td>404940.000000</td>\n",
       "      <td>1112.0000</td>\n",
       "      <td>-11.23</td>\n",
       "      <td>5</td>\n",
       "      <td>White</td>\n",
       "      <td>A</td>\n",
       "    </tr>\n",
       "    <tr>\n",
       "      <th>239</th>\n",
       "      <td>37882</td>\n",
       "      <td>294903.000000</td>\n",
       "      <td>1783.0000</td>\n",
       "      <td>-7.80</td>\n",
       "      <td>5</td>\n",
       "      <td>Blue</td>\n",
       "      <td>O</td>\n",
       "    </tr>\n",
       "  </tbody>\n",
       "</table>\n",
       "<p>240 rows × 7 columns</p>\n",
       "</div>"
      ],
      "text/plain": [
       "     Temperature (K)  Luminosity(L/Lo)  Radius(R/Ro)  Absolute magnitude(Mv)  \\\n",
       "0               3068          0.002400        0.1700                   16.12   \n",
       "1               3042          0.000500        0.1542                   16.60   \n",
       "2               2600          0.000300        0.1020                   18.70   \n",
       "3               2800          0.000200        0.1600                   16.65   \n",
       "4               1939          0.000138        0.1030                   20.06   \n",
       "..               ...               ...           ...                     ...   \n",
       "235            38940     374830.000000     1356.0000                   -9.93   \n",
       "236            30839     834042.000000     1194.0000                  -10.63   \n",
       "237             8829     537493.000000     1423.0000                  -10.73   \n",
       "238             9235     404940.000000     1112.0000                  -11.23   \n",
       "239            37882     294903.000000     1783.0000                   -7.80   \n",
       "\n",
       "     Star type Star color Spectral Class  \n",
       "0            0        Red              M  \n",
       "1            0        Red              M  \n",
       "2            0        Red              M  \n",
       "3            0        Red              M  \n",
       "4            0        Red              M  \n",
       "..         ...        ...            ...  \n",
       "235          5       Blue              O  \n",
       "236          5       Blue              O  \n",
       "237          5      White              A  \n",
       "238          5      White              A  \n",
       "239          5       Blue              O  \n",
       "\n",
       "[240 rows x 7 columns]"
      ]
     },
     "execution_count": 112,
     "metadata": {},
     "output_type": "execute_result"
    }
   ],
   "source": [
    "import pandas as pd\n",
    "\n",
    "df = pd.read_csv('6 class csv.csv')\n",
    "df"
   ]
  },
  {
   "cell_type": "markdown",
   "metadata": {},
   "source": [
    "Next, we need to look at the basic information about this dataset."
   ]
  },
  {
   "cell_type": "code",
   "execution_count": 113,
   "metadata": {},
   "outputs": [
    {
     "name": "stdout",
     "output_type": "stream",
     "text": [
      "Number of rows and columns: (240, 7)\n",
      "\n",
      "Column names: ['Temperature (K)', 'Luminosity(L/Lo)', 'Radius(R/Ro)', 'Absolute magnitude(Mv)', 'Star type', 'Star color', 'Spectral Class']\n",
      "\n",
      "Dataset info:\n",
      "<class 'pandas.core.frame.DataFrame'>\n",
      "RangeIndex: 240 entries, 0 to 239\n",
      "Data columns (total 7 columns):\n",
      " #   Column                  Non-Null Count  Dtype  \n",
      "---  ------                  --------------  -----  \n",
      " 0   Temperature (K)         240 non-null    int64  \n",
      " 1   Luminosity(L/Lo)        240 non-null    float64\n",
      " 2   Radius(R/Ro)            240 non-null    float64\n",
      " 3   Absolute magnitude(Mv)  240 non-null    float64\n",
      " 4   Star type               240 non-null    int64  \n",
      " 5   Star color              240 non-null    object \n",
      " 6   Spectral Class          240 non-null    object \n",
      "dtypes: float64(3), int64(2), object(2)\n",
      "memory usage: 13.3+ KB\n"
     ]
    }
   ],
   "source": [
    "print('Number of rows and columns:', df.shape)\n",
    "print('\\nColumn names:', df.columns.tolist())\n",
    "print('\\nDataset info:')\n",
    "df.info()"
   ]
  },
  {
   "cell_type": "markdown",
   "metadata": {},
   "source": [
    "<h1>Exploratory Data Analysis</h1>"
   ]
  },
  {
   "cell_type": "markdown",
   "metadata": {},
   "source": [
    "To understand the structure of the Star Classification dataset, I did exploratory data analysis (EDA) using descriptive statistics.\n",
    "\n",
    "I focused on:\n",
    "\n",
    "- Measures of Center: Mean and median values of columns to visualize the average tendencies of star properties.\n",
    "\n",
    "- Measures of Spread: Standard deviation shows us how much variation exists in properties across different types of stars.\n",
    "\n",
    "- Class Distribution: Seeing how many stars fall into each class to know if the dataset is well-rounded.\n",
    "\n",
    "- Missing Values: Making sure the dataset is complete and ready for analysis.\n",
    "\n",
    "With these insights, we can successfully identify trends at first glance and see what properties and aspects of the dataset we need to analyzer deeper.\n",
    "\n"
   ]
  },
  {
   "cell_type": "code",
   "execution_count": 114,
   "metadata": {},
   "outputs": [
    {
     "name": "stdout",
     "output_type": "stream",
     "text": [
      "Number of rows: 240\n",
      "\n",
      "Number of columns: 7\n",
      "\n",
      "Summary of statistics:\n"
     ]
    },
    {
     "data": {
      "text/html": [
       "<div>\n",
       "<style scoped>\n",
       "    .dataframe tbody tr th:only-of-type {\n",
       "        vertical-align: middle;\n",
       "    }\n",
       "\n",
       "    .dataframe tbody tr th {\n",
       "        vertical-align: top;\n",
       "    }\n",
       "\n",
       "    .dataframe thead th {\n",
       "        text-align: right;\n",
       "    }\n",
       "</style>\n",
       "<table border=\"1\" class=\"dataframe\">\n",
       "  <thead>\n",
       "    <tr style=\"text-align: right;\">\n",
       "      <th></th>\n",
       "      <th>Temperature (K)</th>\n",
       "      <th>Luminosity(L/Lo)</th>\n",
       "      <th>Radius(R/Ro)</th>\n",
       "      <th>Absolute magnitude(Mv)</th>\n",
       "      <th>Star type</th>\n",
       "    </tr>\n",
       "  </thead>\n",
       "  <tbody>\n",
       "    <tr>\n",
       "      <th>count</th>\n",
       "      <td>240.000000</td>\n",
       "      <td>240.000000</td>\n",
       "      <td>240.000000</td>\n",
       "      <td>240.000000</td>\n",
       "      <td>240.000000</td>\n",
       "    </tr>\n",
       "    <tr>\n",
       "      <th>mean</th>\n",
       "      <td>10497.462500</td>\n",
       "      <td>107188.361635</td>\n",
       "      <td>237.157781</td>\n",
       "      <td>4.382396</td>\n",
       "      <td>2.500000</td>\n",
       "    </tr>\n",
       "    <tr>\n",
       "      <th>std</th>\n",
       "      <td>9552.425037</td>\n",
       "      <td>179432.244940</td>\n",
       "      <td>517.155763</td>\n",
       "      <td>10.532512</td>\n",
       "      <td>1.711394</td>\n",
       "    </tr>\n",
       "    <tr>\n",
       "      <th>min</th>\n",
       "      <td>1939.000000</td>\n",
       "      <td>0.000080</td>\n",
       "      <td>0.008400</td>\n",
       "      <td>-11.920000</td>\n",
       "      <td>0.000000</td>\n",
       "    </tr>\n",
       "    <tr>\n",
       "      <th>25%</th>\n",
       "      <td>3344.250000</td>\n",
       "      <td>0.000865</td>\n",
       "      <td>0.102750</td>\n",
       "      <td>-6.232500</td>\n",
       "      <td>1.000000</td>\n",
       "    </tr>\n",
       "    <tr>\n",
       "      <th>50%</th>\n",
       "      <td>5776.000000</td>\n",
       "      <td>0.070500</td>\n",
       "      <td>0.762500</td>\n",
       "      <td>8.313000</td>\n",
       "      <td>2.500000</td>\n",
       "    </tr>\n",
       "    <tr>\n",
       "      <th>75%</th>\n",
       "      <td>15055.500000</td>\n",
       "      <td>198050.000000</td>\n",
       "      <td>42.750000</td>\n",
       "      <td>13.697500</td>\n",
       "      <td>4.000000</td>\n",
       "    </tr>\n",
       "    <tr>\n",
       "      <th>max</th>\n",
       "      <td>40000.000000</td>\n",
       "      <td>849420.000000</td>\n",
       "      <td>1948.500000</td>\n",
       "      <td>20.060000</td>\n",
       "      <td>5.000000</td>\n",
       "    </tr>\n",
       "  </tbody>\n",
       "</table>\n",
       "</div>"
      ],
      "text/plain": [
       "       Temperature (K)  Luminosity(L/Lo)  Radius(R/Ro)  \\\n",
       "count       240.000000        240.000000    240.000000   \n",
       "mean      10497.462500     107188.361635    237.157781   \n",
       "std        9552.425037     179432.244940    517.155763   \n",
       "min        1939.000000          0.000080      0.008400   \n",
       "25%        3344.250000          0.000865      0.102750   \n",
       "50%        5776.000000          0.070500      0.762500   \n",
       "75%       15055.500000     198050.000000     42.750000   \n",
       "max       40000.000000     849420.000000   1948.500000   \n",
       "\n",
       "       Absolute magnitude(Mv)   Star type  \n",
       "count              240.000000  240.000000  \n",
       "mean                 4.382396    2.500000  \n",
       "std                 10.532512    1.711394  \n",
       "min                -11.920000    0.000000  \n",
       "25%                 -6.232500    1.000000  \n",
       "50%                  8.313000    2.500000  \n",
       "75%                 13.697500    4.000000  \n",
       "max                 20.060000    5.000000  "
      ]
     },
     "execution_count": 114,
     "metadata": {},
     "output_type": "execute_result"
    }
   ],
   "source": [
    "print('Number of rows:', len(df))\n",
    "print('\\nNumber of columns:', len(df.columns))\n",
    "print('\\nSummary of statistics:')\n",
    "df.describe()"
   ]
  },
  {
   "cell_type": "code",
   "execution_count": 115,
   "metadata": {},
   "outputs": [
    {
     "name": "stdout",
     "output_type": "stream",
     "text": [
      "\n",
      "Mean grouped by star type:\n"
     ]
    },
    {
     "data": {
      "text/html": [
       "<div>\n",
       "<style scoped>\n",
       "    .dataframe tbody tr th:only-of-type {\n",
       "        vertical-align: middle;\n",
       "    }\n",
       "\n",
       "    .dataframe tbody tr th {\n",
       "        vertical-align: top;\n",
       "    }\n",
       "\n",
       "    .dataframe thead th {\n",
       "        text-align: right;\n",
       "    }\n",
       "</style>\n",
       "<table border=\"1\" class=\"dataframe\">\n",
       "  <thead>\n",
       "    <tr style=\"text-align: right;\">\n",
       "      <th></th>\n",
       "      <th>Temperature (K)</th>\n",
       "      <th>Luminosity(L/Lo)</th>\n",
       "      <th>Radius(R/Ro)</th>\n",
       "      <th>Absolute magnitude(Mv)</th>\n",
       "    </tr>\n",
       "    <tr>\n",
       "      <th>Star type</th>\n",
       "      <th></th>\n",
       "      <th></th>\n",
       "      <th></th>\n",
       "      <th></th>\n",
       "    </tr>\n",
       "  </thead>\n",
       "  <tbody>\n",
       "    <tr>\n",
       "      <th>0</th>\n",
       "      <td>2997.950</td>\n",
       "      <td>0.000693</td>\n",
       "      <td>0.110015</td>\n",
       "      <td>17.563500</td>\n",
       "    </tr>\n",
       "    <tr>\n",
       "      <th>1</th>\n",
       "      <td>3283.825</td>\n",
       "      <td>0.005406</td>\n",
       "      <td>0.348145</td>\n",
       "      <td>12.539975</td>\n",
       "    </tr>\n",
       "    <tr>\n",
       "      <th>2</th>\n",
       "      <td>13931.450</td>\n",
       "      <td>0.002434</td>\n",
       "      <td>0.010728</td>\n",
       "      <td>12.582500</td>\n",
       "    </tr>\n",
       "    <tr>\n",
       "      <th>3</th>\n",
       "      <td>16018.000</td>\n",
       "      <td>32067.386275</td>\n",
       "      <td>4.430300</td>\n",
       "      <td>-0.367425</td>\n",
       "    </tr>\n",
       "    <tr>\n",
       "      <th>4</th>\n",
       "      <td>15347.850</td>\n",
       "      <td>301816.250000</td>\n",
       "      <td>51.150000</td>\n",
       "      <td>-6.369925</td>\n",
       "    </tr>\n",
       "    <tr>\n",
       "      <th>5</th>\n",
       "      <td>11405.700</td>\n",
       "      <td>309246.525000</td>\n",
       "      <td>1366.897500</td>\n",
       "      <td>-9.654250</td>\n",
       "    </tr>\n",
       "  </tbody>\n",
       "</table>\n",
       "</div>"
      ],
      "text/plain": [
       "           Temperature (K)  Luminosity(L/Lo)  Radius(R/Ro)  \\\n",
       "Star type                                                    \n",
       "0                 2997.950          0.000693      0.110015   \n",
       "1                 3283.825          0.005406      0.348145   \n",
       "2                13931.450          0.002434      0.010728   \n",
       "3                16018.000      32067.386275      4.430300   \n",
       "4                15347.850     301816.250000     51.150000   \n",
       "5                11405.700     309246.525000   1366.897500   \n",
       "\n",
       "           Absolute magnitude(Mv)  \n",
       "Star type                          \n",
       "0                       17.563500  \n",
       "1                       12.539975  \n",
       "2                       12.582500  \n",
       "3                       -0.367425  \n",
       "4                       -6.369925  \n",
       "5                       -9.654250  "
      ]
     },
     "execution_count": 115,
     "metadata": {},
     "output_type": "execute_result"
    }
   ],
   "source": [
    "df_mean = df.groupby('Star type')[['Temperature (K)', 'Luminosity(L/Lo)', 'Radius(R/Ro)', 'Absolute magnitude(Mv)']].agg('mean')\n",
    "print('\\nMean grouped by star type:')\n",
    "df_mean"
   ]
  },
  {
   "cell_type": "code",
   "execution_count": 116,
   "metadata": {},
   "outputs": [
    {
     "name": "stdout",
     "output_type": "stream",
     "text": [
      "\n",
      "STD grouped by star type:\n"
     ]
    },
    {
     "data": {
      "text/html": [
       "<div>\n",
       "<style scoped>\n",
       "    .dataframe tbody tr th:only-of-type {\n",
       "        vertical-align: middle;\n",
       "    }\n",
       "\n",
       "    .dataframe tbody tr th {\n",
       "        vertical-align: top;\n",
       "    }\n",
       "\n",
       "    .dataframe thead th {\n",
       "        text-align: right;\n",
       "    }\n",
       "</style>\n",
       "<table border=\"1\" class=\"dataframe\">\n",
       "  <thead>\n",
       "    <tr style=\"text-align: right;\">\n",
       "      <th></th>\n",
       "      <th>Temperature (K)</th>\n",
       "      <th>Luminosity(L/Lo)</th>\n",
       "      <th>Radius(R/Ro)</th>\n",
       "      <th>Absolute magnitude(Mv)</th>\n",
       "    </tr>\n",
       "    <tr>\n",
       "      <th>Star type</th>\n",
       "      <th></th>\n",
       "      <th></th>\n",
       "      <th></th>\n",
       "      <th></th>\n",
       "    </tr>\n",
       "  </thead>\n",
       "  <tbody>\n",
       "    <tr>\n",
       "      <th>0</th>\n",
       "      <td>332.276295</td>\n",
       "      <td>0.000888</td>\n",
       "      <td>0.025783</td>\n",
       "      <td>1.213111</td>\n",
       "    </tr>\n",
       "    <tr>\n",
       "      <th>1</th>\n",
       "      <td>269.637258</td>\n",
       "      <td>0.007330</td>\n",
       "      <td>0.154453</td>\n",
       "      <td>1.422816</td>\n",
       "    </tr>\n",
       "    <tr>\n",
       "      <th>2</th>\n",
       "      <td>4957.655189</td>\n",
       "      <td>0.008912</td>\n",
       "      <td>0.001725</td>\n",
       "      <td>1.278386</td>\n",
       "    </tr>\n",
       "    <tr>\n",
       "      <th>3</th>\n",
       "      <td>10661.234972</td>\n",
       "      <td>69351.195858</td>\n",
       "      <td>2.801390</td>\n",
       "      <td>3.613592</td>\n",
       "    </tr>\n",
       "    <tr>\n",
       "      <th>4</th>\n",
       "      <td>10086.784628</td>\n",
       "      <td>175756.378119</td>\n",
       "      <td>27.656826</td>\n",
       "      <td>0.560051</td>\n",
       "    </tr>\n",
       "    <tr>\n",
       "      <th>5</th>\n",
       "      <td>11816.991886</td>\n",
       "      <td>199343.999427</td>\n",
       "      <td>255.561357</td>\n",
       "      <td>1.453605</td>\n",
       "    </tr>\n",
       "  </tbody>\n",
       "</table>\n",
       "</div>"
      ],
      "text/plain": [
       "           Temperature (K)  Luminosity(L/Lo)  Radius(R/Ro)  \\\n",
       "Star type                                                    \n",
       "0               332.276295          0.000888      0.025783   \n",
       "1               269.637258          0.007330      0.154453   \n",
       "2              4957.655189          0.008912      0.001725   \n",
       "3             10661.234972      69351.195858      2.801390   \n",
       "4             10086.784628     175756.378119     27.656826   \n",
       "5             11816.991886     199343.999427    255.561357   \n",
       "\n",
       "           Absolute magnitude(Mv)  \n",
       "Star type                          \n",
       "0                        1.213111  \n",
       "1                        1.422816  \n",
       "2                        1.278386  \n",
       "3                        3.613592  \n",
       "4                        0.560051  \n",
       "5                        1.453605  "
      ]
     },
     "execution_count": 116,
     "metadata": {},
     "output_type": "execute_result"
    }
   ],
   "source": [
    "df_std = df.groupby('Star type')[['Temperature (K)', 'Luminosity(L/Lo)', 'Radius(R/Ro)', 'Absolute magnitude(Mv)']].agg('std')\n",
    "print('\\nSTD grouped by star type:')\n",
    "df_std"
   ]
  },
  {
   "cell_type": "code",
   "execution_count": 117,
   "metadata": {},
   "outputs": [
    {
     "name": "stdout",
     "output_type": "stream",
     "text": [
      "\n",
      "Star class distribution:\n",
      "Star type\n",
      "0    40\n",
      "1    40\n",
      "2    40\n",
      "3    40\n",
      "4    40\n",
      "5    40\n",
      "dtype: int64\n"
     ]
    }
   ],
   "source": [
    "print('\\nStar class distribution:')\n",
    "print(df.groupby('Star type').size())"
   ]
  },
  {
   "cell_type": "code",
   "execution_count": 118,
   "metadata": {},
   "outputs": [
    {
     "name": "stdout",
     "output_type": "stream",
     "text": [
      "\n",
      "Missing values in each column:\n",
      "Temperature (K)           0\n",
      "Luminosity(L/Lo)          0\n",
      "Radius(R/Ro)              0\n",
      "Absolute magnitude(Mv)    0\n",
      "Star type                 0\n",
      "Star color                0\n",
      "Spectral Class            0\n",
      "dtype: int64\n"
     ]
    }
   ],
   "source": [
    "print('\\nMissing values in each column:')\n",
    "print(df.isnull().sum())"
   ]
  },
  {
   "cell_type": "markdown",
   "metadata": {},
   "source": [
    "Based on the EDA:\n",
    "\n",
    "- The dataset has 240 rows and 7 columns, giving it 1680 data points.\n",
    "\n",
    "- There are no missing values, which is ideal for analysis.\n",
    "\n",
    "- Thes star type distribution is fairly balanced, with the same number of samples in each of the six classes (0 to 5).\n",
    "\n",
    "- The temperature range is from from a few thousand to over 40,000 K, which shows the diversity in stellar types.\n",
    "\n",
    "- Standard deviations are bigger for some aspects, which means that since there is no conclusive trend, we can analyze it more.\n",
    "\n",
    "These observations help us understand the dataset's structure a lot more and show what trends we should explore next. "
   ]
  },
  {
   "cell_type": "markdown",
   "metadata": {},
   "source": [
    "<h1>Exploratory Data Visualization</h1>"
   ]
  },
  {
   "cell_type": "markdown",
   "metadata": {},
   "source": [
    "To better visualize the data, it helps to make a graph or plot that can summarize the trends we looked at previously. \n",
    "\n",
    "In order to make sure our graphs are not too cluttered, we can group our dataset to plot."
   ]
  },
  {
   "cell_type": "code",
   "execution_count": 119,
   "metadata": {},
   "outputs": [
    {
     "data": {
      "text/plain": [
       "<Axes: title={'center': 'Number of Stars by Type'}, xlabel='Star Type', ylabel='Count'>"
      ]
     },
     "execution_count": 119,
     "metadata": {},
     "output_type": "execute_result"
    },
    {
     "data": {
      "image/png": "[encoded data removed]",
      "text/plain": [
       "<Figure size 1300x500 with 1 Axes>"
      ]
     },
     "metadata": {},
     "output_type": "display_data"
    }
   ],
   "source": [
    "import matplotlib.pyplot as plt\n",
    "\n",
    "df_sample = df.groupby('Star type').size()\n",
    "df_sample.plot.bar(df_sample.index, df_sample.values, figsize=(13,5), color='lightblue', title='Number of Stars by Type', \n",
    "                   xlabel='Star Type', ylabel='Count')"
   ]
  },
  {
   "cell_type": "code",
   "execution_count": 120,
   "metadata": {},
   "outputs": [
    {
     "data": {
      "text/plain": [
       "<Axes: title={'center': 'Radius vs Luminosity'}, xlabel='Radius', ylabel='Luminosity'>"
      ]
     },
     "execution_count": 120,
     "metadata": {},
     "output_type": "execute_result"
    },
    {
     "data": {
      "image/png": "[encoded data removed]",
      "text/plain": [
       "<Figure size 1300x500 with 1 Axes>"
      ]
     },
     "metadata": {},
     "output_type": "display_data"
    }
   ],
   "source": [
    "df.plot.scatter(y='Luminosity(L/Lo)', x='Radius(R/Ro)', color='green', alpha=0.5, figsize=(13,5), \n",
    "                title='Radius vs Luminosity', xlabel='Radius', ylabel='Luminosity')"
   ]
  },
  {
   "cell_type": "code",
   "execution_count": 121,
   "metadata": {},
   "outputs": [
    {
     "data": {
      "text/plain": [
       "<Axes: title={'center': 'Star Type Distribution by Spectral Class'}, xlabel='Spectral Class', ylabel='Count'>"
      ]
     },
     "execution_count": 121,
     "metadata": {},
     "output_type": "execute_result"
    },
    {
     "data": {
      "image/png": "[encoded data removed]",
      "text/plain": [
       "<Figure size 1300x500 with 1 Axes>"
      ]
     },
     "metadata": {},
     "output_type": "display_data"
    }
   ],
   "source": [
    "df_sample2 = df.groupby(['Spectral Class', 'Star type']).size()\n",
    "df_sample2.plot.bar(stacked=True, figsize=(13, 5), color='pink', title='Star Type Distribution by Spectral Class', \n",
    "                    xlabel='Spectral Class', ylabel='Count')"
   ]
  },
  {
   "cell_type": "markdown",
   "metadata": {},
   "source": [
    "To better understand the dataset, I created a few graphs to reveal trends and relationships between key features:\n",
    "\n",
    "- Bar Chart of Star Classification Counts: This graph displays how many stars fall under each star type (e.g., Main Sequence, White Dwarf, Hypergiant, etc.). I found that there are the same number of stars of each star type in this dataset.\n",
    "\n",
    "- Scatter Plot of Radius vs. Luminosity: This plot shows the relationship between a star’s radius and its luminosity. It showed that for most of the smaller radii, the luminosity can vary severely, but larger stars tend to have less distributed luminosities.\n",
    "\n",
    "- Bar Chart of Star Type Distribution by Spectral Class: This grouped bar chart shows how different spectral classes (O, B, A, F, G, K, M) relate to the star classification types. It showed that some spectral classes are more likely to be associated with certain star types. \n",
    "\n",
    "These visualizations illustrated a broad overview of how stars relate and differ by properties like type, absolute magnitude, luminosity, and spectral class.\n",
    "\n"
   ]
  },
  {
   "cell_type": "markdown",
   "metadata": {},
   "source": [
    "<h1>Planning for Part II</h1>"
   ]
  },
  {
   "cell_type": "markdown",
   "metadata": {},
   "source": [
    "Throughout my exploratory data analysis, I noticed several fascinating patterns in the dataset:\n",
    "\n",
    "Star types are not evenly distributed by stellar classes. Some types, like Brown Dwarfs and Red Dwarfs, appear only in stellar class M. I also found that there's a not a strong correlation between radius and luminosity for certain types of stars, but that can be explored more in regards to other properties as well. Moreover, spectral class plays a significant role in determining star classification as cooler spectral classes tend to associate more with dwarfs, while hotter ones are associated with giants.\n",
    "\n",
    "For Part II, I’m planning to dive deeper into the connections between physical properties and star classification. Some of the specific questions I’d like to explore are:\n",
    "\n",
    "- Can I build a simple classification model to predict a star's type based on physical features like temperature, radius, luminosity, absolute magnitude, and spectral class?\n",
    "\n",
    "- Which features (temperature, luminosity, radius, etc.) are most important and have a clear trend in determining star type?\n",
    "\n",
    "- Are there any groupings in the data that could suggest hidden structure or patterns?\n",
    "\n",
    "My goal is to use Data Science tools to better understand the underlying trends in stellar data. This project gives me a way to apply data science techniques to real astrophysics, which is exactly the techonological and scientific intersection I’m passionate about.\n",
    "\n"
   ]
  },
  {
   "cell_type": "markdown",
   "metadata": {},
   "source": [
    "<h1>Data Science</h>"
   ]
  },
  {
   "cell_type": "markdown",
   "metadata": {},
   "source": [
    "I am going to focus on answering the question: \"Can I build a simple classification model to predict a star's type based on physical features like temperature, radius, luminosity, absolute magnitude, and spectral class?\" I will be doing this by using the Random Forest classifier model to find what features/properties of the stars can be best used to classify them.\n",
    "\n",
    "First, I will be using LabelEncoder to convert the Spectral Class strings into numbers so that it is easier for the machine learning model to use. Then I will train the model to work with the data and test it out to see how our predictions improve, hopefully creating a model that is able to accurately classify stars given any data in the future.\n"
   ]
  },
  {
   "cell_type": "code",
   "execution_count": 122,
   "metadata": {},
   "outputs": [
    {
     "data": {
      "text/html": [
       "<div>\n",
       "<style scoped>\n",
       "    .dataframe tbody tr th:only-of-type {\n",
       "        vertical-align: middle;\n",
       "    }\n",
       "\n",
       "    .dataframe tbody tr th {\n",
       "        vertical-align: top;\n",
       "    }\n",
       "\n",
       "    .dataframe thead th {\n",
       "        text-align: right;\n",
       "    }\n",
       "</style>\n",
       "<table border=\"1\" class=\"dataframe\">\n",
       "  <thead>\n",
       "    <tr style=\"text-align: right;\">\n",
       "      <th></th>\n",
       "      <th>Temperature (K)</th>\n",
       "      <th>Luminosity(L/Lo)</th>\n",
       "      <th>Radius(R/Ro)</th>\n",
       "      <th>Absolute magnitude(Mv)</th>\n",
       "      <th>Star type</th>\n",
       "      <th>Star color</th>\n",
       "      <th>Spectral Class</th>\n",
       "    </tr>\n",
       "  </thead>\n",
       "  <tbody>\n",
       "    <tr>\n",
       "      <th>0</th>\n",
       "      <td>3068</td>\n",
       "      <td>0.002400</td>\n",
       "      <td>0.1700</td>\n",
       "      <td>16.12</td>\n",
       "      <td>0</td>\n",
       "      <td>10</td>\n",
       "      <td>5</td>\n",
       "    </tr>\n",
       "    <tr>\n",
       "      <th>1</th>\n",
       "      <td>3042</td>\n",
       "      <td>0.000500</td>\n",
       "      <td>0.1542</td>\n",
       "      <td>16.60</td>\n",
       "      <td>0</td>\n",
       "      <td>10</td>\n",
       "      <td>5</td>\n",
       "    </tr>\n",
       "    <tr>\n",
       "      <th>2</th>\n",
       "      <td>2600</td>\n",
       "      <td>0.000300</td>\n",
       "      <td>0.1020</td>\n",
       "      <td>18.70</td>\n",
       "      <td>0</td>\n",
       "      <td>10</td>\n",
       "      <td>5</td>\n",
       "    </tr>\n",
       "    <tr>\n",
       "      <th>3</th>\n",
       "      <td>2800</td>\n",
       "      <td>0.000200</td>\n",
       "      <td>0.1600</td>\n",
       "      <td>16.65</td>\n",
       "      <td>0</td>\n",
       "      <td>10</td>\n",
       "      <td>5</td>\n",
       "    </tr>\n",
       "    <tr>\n",
       "      <th>4</th>\n",
       "      <td>1939</td>\n",
       "      <td>0.000138</td>\n",
       "      <td>0.1030</td>\n",
       "      <td>20.06</td>\n",
       "      <td>0</td>\n",
       "      <td>10</td>\n",
       "      <td>5</td>\n",
       "    </tr>\n",
       "    <tr>\n",
       "      <th>...</th>\n",
       "      <td>...</td>\n",
       "      <td>...</td>\n",
       "      <td>...</td>\n",
       "      <td>...</td>\n",
       "      <td>...</td>\n",
       "      <td>...</td>\n",
       "      <td>...</td>\n",
       "    </tr>\n",
       "    <tr>\n",
       "      <th>235</th>\n",
       "      <td>38940</td>\n",
       "      <td>374830.000000</td>\n",
       "      <td>1356.0000</td>\n",
       "      <td>-9.93</td>\n",
       "      <td>5</td>\n",
       "      <td>0</td>\n",
       "      <td>6</td>\n",
       "    </tr>\n",
       "    <tr>\n",
       "      <th>236</th>\n",
       "      <td>30839</td>\n",
       "      <td>834042.000000</td>\n",
       "      <td>1194.0000</td>\n",
       "      <td>-10.63</td>\n",
       "      <td>5</td>\n",
       "      <td>0</td>\n",
       "      <td>6</td>\n",
       "    </tr>\n",
       "    <tr>\n",
       "      <th>237</th>\n",
       "      <td>8829</td>\n",
       "      <td>537493.000000</td>\n",
       "      <td>1423.0000</td>\n",
       "      <td>-10.73</td>\n",
       "      <td>5</td>\n",
       "      <td>11</td>\n",
       "      <td>0</td>\n",
       "    </tr>\n",
       "    <tr>\n",
       "      <th>238</th>\n",
       "      <td>9235</td>\n",
       "      <td>404940.000000</td>\n",
       "      <td>1112.0000</td>\n",
       "      <td>-11.23</td>\n",
       "      <td>5</td>\n",
       "      <td>11</td>\n",
       "      <td>0</td>\n",
       "    </tr>\n",
       "    <tr>\n",
       "      <th>239</th>\n",
       "      <td>37882</td>\n",
       "      <td>294903.000000</td>\n",
       "      <td>1783.0000</td>\n",
       "      <td>-7.80</td>\n",
       "      <td>5</td>\n",
       "      <td>0</td>\n",
       "      <td>6</td>\n",
       "    </tr>\n",
       "  </tbody>\n",
       "</table>\n",
       "<p>240 rows × 7 columns</p>\n",
       "</div>"
      ],
      "text/plain": [
       "     Temperature (K)  Luminosity(L/Lo)  Radius(R/Ro)  Absolute magnitude(Mv)  \\\n",
       "0               3068          0.002400        0.1700                   16.12   \n",
       "1               3042          0.000500        0.1542                   16.60   \n",
       "2               2600          0.000300        0.1020                   18.70   \n",
       "3               2800          0.000200        0.1600                   16.65   \n",
       "4               1939          0.000138        0.1030                   20.06   \n",
       "..               ...               ...           ...                     ...   \n",
       "235            38940     374830.000000     1356.0000                   -9.93   \n",
       "236            30839     834042.000000     1194.0000                  -10.63   \n",
       "237             8829     537493.000000     1423.0000                  -10.73   \n",
       "238             9235     404940.000000     1112.0000                  -11.23   \n",
       "239            37882     294903.000000     1783.0000                   -7.80   \n",
       "\n",
       "     Star type  Star color  Spectral Class  \n",
       "0            0          10               5  \n",
       "1            0          10               5  \n",
       "2            0          10               5  \n",
       "3            0          10               5  \n",
       "4            0          10               5  \n",
       "..         ...         ...             ...  \n",
       "235          5           0               6  \n",
       "236          5           0               6  \n",
       "237          5          11               0  \n",
       "238          5          11               0  \n",
       "239          5           0               6  \n",
       "\n",
       "[240 rows x 7 columns]"
      ]
     },
     "execution_count": 122,
     "metadata": {},
     "output_type": "execute_result"
    }
   ],
   "source": [
    "import sklearn\n",
    "from sklearn.preprocessing import LabelEncoder\n",
    "\n",
    "spec = LabelEncoder()\n",
    "color = LabelEncoder()\n",
    "df['Spectral Class'] = spec.fit_transform(df['Spectral Class'])\n",
    "df['Star color'] = color.fit_transform(df['Star color'])\n",
    "df"
   ]
  },
  {
   "cell_type": "code",
   "execution_count": 123,
   "metadata": {},
   "outputs": [
    {
     "data": {
      "text/html": [
       "<div>\n",
       "<style scoped>\n",
       "    .dataframe tbody tr th:only-of-type {\n",
       "        vertical-align: middle;\n",
       "    }\n",
       "\n",
       "    .dataframe tbody tr th {\n",
       "        vertical-align: top;\n",
       "    }\n",
       "\n",
       "    .dataframe thead th {\n",
       "        text-align: right;\n",
       "    }\n",
       "</style>\n",
       "<table border=\"1\" class=\"dataframe\">\n",
       "  <thead>\n",
       "    <tr style=\"text-align: right;\">\n",
       "      <th></th>\n",
       "      <th>Temperature (K)</th>\n",
       "      <th>Luminosity(L/Lo)</th>\n",
       "      <th>Radius(R/Ro)</th>\n",
       "      <th>Absolute magnitude(Mv)</th>\n",
       "      <th>Star color</th>\n",
       "      <th>Spectral Class</th>\n",
       "      <th>Actual type</th>\n",
       "      <th>Predicted type</th>\n",
       "    </tr>\n",
       "  </thead>\n",
       "  <tbody>\n",
       "    <tr>\n",
       "      <th>0</th>\n",
       "      <td>5936</td>\n",
       "      <td>1.35700</td>\n",
       "      <td>1.1060</td>\n",
       "      <td>4.460</td>\n",
       "      <td>17</td>\n",
       "      <td>2</td>\n",
       "      <td>3</td>\n",
       "      <td>3</td>\n",
       "    </tr>\n",
       "    <tr>\n",
       "      <th>1</th>\n",
       "      <td>2935</td>\n",
       "      <td>0.00014</td>\n",
       "      <td>0.1160</td>\n",
       "      <td>18.890</td>\n",
       "      <td>10</td>\n",
       "      <td>5</td>\n",
       "      <td>0</td>\n",
       "      <td>0</td>\n",
       "    </tr>\n",
       "    <tr>\n",
       "      <th>2</th>\n",
       "      <td>3490</td>\n",
       "      <td>270000.00000</td>\n",
       "      <td>1520.0000</td>\n",
       "      <td>-9.400</td>\n",
       "      <td>10</td>\n",
       "      <td>5</td>\n",
       "      <td>5</td>\n",
       "      <td>5</td>\n",
       "    </tr>\n",
       "    <tr>\n",
       "      <th>3</th>\n",
       "      <td>21904</td>\n",
       "      <td>748490.00000</td>\n",
       "      <td>1130.0000</td>\n",
       "      <td>-7.670</td>\n",
       "      <td>6</td>\n",
       "      <td>1</td>\n",
       "      <td>5</td>\n",
       "      <td>5</td>\n",
       "    </tr>\n",
       "    <tr>\n",
       "      <th>4</th>\n",
       "      <td>10930</td>\n",
       "      <td>783930.00000</td>\n",
       "      <td>25.0000</td>\n",
       "      <td>-6.224</td>\n",
       "      <td>0</td>\n",
       "      <td>6</td>\n",
       "      <td>4</td>\n",
       "      <td>4</td>\n",
       "    </tr>\n",
       "    <tr>\n",
       "      <th>...</th>\n",
       "      <td>...</td>\n",
       "      <td>...</td>\n",
       "      <td>...</td>\n",
       "      <td>...</td>\n",
       "      <td>...</td>\n",
       "      <td>...</td>\n",
       "      <td>...</td>\n",
       "      <td>...</td>\n",
       "    </tr>\n",
       "    <tr>\n",
       "      <th>67</th>\n",
       "      <td>3295</td>\n",
       "      <td>0.00098</td>\n",
       "      <td>0.1320</td>\n",
       "      <td>17.130</td>\n",
       "      <td>10</td>\n",
       "      <td>5</td>\n",
       "      <td>0</td>\n",
       "      <td>0</td>\n",
       "    </tr>\n",
       "    <tr>\n",
       "      <th>68</th>\n",
       "      <td>29560</td>\n",
       "      <td>188000.00000</td>\n",
       "      <td>6.0200</td>\n",
       "      <td>-4.010</td>\n",
       "      <td>6</td>\n",
       "      <td>1</td>\n",
       "      <td>3</td>\n",
       "      <td>3</td>\n",
       "    </tr>\n",
       "    <tr>\n",
       "      <th>69</th>\n",
       "      <td>3462</td>\n",
       "      <td>0.00530</td>\n",
       "      <td>0.1480</td>\n",
       "      <td>11.470</td>\n",
       "      <td>10</td>\n",
       "      <td>5</td>\n",
       "      <td>1</td>\n",
       "      <td>1</td>\n",
       "    </tr>\n",
       "    <tr>\n",
       "      <th>70</th>\n",
       "      <td>17920</td>\n",
       "      <td>0.00111</td>\n",
       "      <td>0.0106</td>\n",
       "      <td>11.660</td>\n",
       "      <td>0</td>\n",
       "      <td>1</td>\n",
       "      <td>2</td>\n",
       "      <td>2</td>\n",
       "    </tr>\n",
       "    <tr>\n",
       "      <th>71</th>\n",
       "      <td>3598</td>\n",
       "      <td>0.00110</td>\n",
       "      <td>0.5600</td>\n",
       "      <td>14.260</td>\n",
       "      <td>10</td>\n",
       "      <td>5</td>\n",
       "      <td>1</td>\n",
       "      <td>1</td>\n",
       "    </tr>\n",
       "  </tbody>\n",
       "</table>\n",
       "<p>72 rows × 8 columns</p>\n",
       "</div>"
      ],
      "text/plain": [
       "    Temperature (K)  Luminosity(L/Lo)  Radius(R/Ro)  Absolute magnitude(Mv)  \\\n",
       "0              5936           1.35700        1.1060                   4.460   \n",
       "1              2935           0.00014        0.1160                  18.890   \n",
       "2              3490      270000.00000     1520.0000                  -9.400   \n",
       "3             21904      748490.00000     1130.0000                  -7.670   \n",
       "4             10930      783930.00000       25.0000                  -6.224   \n",
       "..              ...               ...           ...                     ...   \n",
       "67             3295           0.00098        0.1320                  17.130   \n",
       "68            29560      188000.00000        6.0200                  -4.010   \n",
       "69             3462           0.00530        0.1480                  11.470   \n",
       "70            17920           0.00111        0.0106                  11.660   \n",
       "71             3598           0.00110        0.5600                  14.260   \n",
       "\n",
       "    Star color  Spectral Class  Actual type  Predicted type  \n",
       "0           17               2            3               3  \n",
       "1           10               5            0               0  \n",
       "2           10               5            5               5  \n",
       "3            6               1            5               5  \n",
       "4            0               6            4               4  \n",
       "..         ...             ...          ...             ...  \n",
       "67          10               5            0               0  \n",
       "68           6               1            3               3  \n",
       "69          10               5            1               1  \n",
       "70           0               1            2               2  \n",
       "71          10               5            1               1  \n",
       "\n",
       "[72 rows x 8 columns]"
      ]
     },
     "execution_count": 123,
     "metadata": {},
     "output_type": "execute_result"
    }
   ],
   "source": [
    "from sklearn.model_selection import train_test_split\n",
    "from sklearn.ensemble import RandomForestClassifier\n",
    "\n",
    "x = df[['Temperature (K)', 'Luminosity(L/Lo)', 'Radius(R/Ro)', 'Absolute magnitude(Mv)', 'Star color', 'Spectral Class']]\n",
    "y = df['Star type']\n",
    "\n",
    "x_train, x_test, y_train, y_test = train_test_split(x, y, test_size=0.3, random_state=100, stratify=y)\n",
    "\n",
    "rf = RandomForestClassifier(n_estimators=100, random_state=100)\n",
    "rf.fit(x_train, y_train)\n",
    "\n",
    "y_pred = rf.predict(x_test)\n",
    "\n",
    "df_pred = x_test.reset_index(drop=True)\n",
    "df_pred['Actual type'] = y_test.reset_index(drop=True)\n",
    "df_pred['Predicted type'] = y_pred\n",
    "df_pred"
   ]
  },
  {
   "cell_type": "code",
   "execution_count": 126,
   "metadata": {},
   "outputs": [
    {
     "name": "stdout",
     "output_type": "stream",
     "text": [
      "Accuracy: 0.99\n",
      "\n",
      "Classification Report:\n",
      "               precision    recall  f1-score   support\n",
      "\n",
      "           0       1.00      1.00      1.00        12\n",
      "           1       0.92      1.00      0.96        12\n",
      "           2       1.00      1.00      1.00        12\n",
      "           3       1.00      0.92      0.96        12\n",
      "           4       1.00      1.00      1.00        12\n",
      "           5       1.00      1.00      1.00        12\n",
      "\n",
      "    accuracy                           0.99        72\n",
      "   macro avg       0.99      0.99      0.99        72\n",
      "weighted avg       0.99      0.99      0.99        72\n",
      "\n",
      "Feature Importances:\n",
      " Radius(R/Ro)              0.313609\n",
      "Absolute magnitude(Mv)    0.294379\n",
      "Luminosity(L/Lo)          0.168699\n",
      "Temperature (K)           0.104857\n",
      "Spectral Class            0.095231\n",
      "Star color                0.023224\n",
      "dtype: float64\n"
     ]
    }
   ],
   "source": [
    "from sklearn.metrics import accuracy_score, classification_report\n",
    "\n",
    "accuracy = accuracy_score(y_test, y_pred)\n",
    "classification = classification_report(y_test, y_pred)\n",
    "\n",
    "print(f\"Accuracy: {accuracy:.2f}\")\n",
    "print(\"\\nClassification Report:\\n\", classification)\n",
    "\n",
    "fi = pd.Series(rf.feature_importances_, index=x.columns).sort_values(ascending=False)\n",
    "print(\"Feature Importances:\\n\", fi)"
   ]
  },
  {
   "cell_type": "markdown",
   "metadata": {},
   "source": [
    "<h1>A Different Data Visualization</h1>"
   ]
  },
  {
   "cell_type": "markdown",
   "metadata": {},
   "source": [
    "Given the analysis of the data through the machine learning model, we can see that Radius and Absolute Magnitude are the biggest contributers in determining star type. Using this, we can create a boxplot graph to visualize how Radius is distributed compared to the Star Type."
   ]
  },
  {
   "cell_type": "code",
   "execution_count": 125,
   "metadata": {},
   "outputs": [
    {
     "data": {
      "text/plain": [
       "Text(0, 0.5, 'Radius(R/Ro)')"
      ]
     },
     "execution_count": 125,
     "metadata": {},
     "output_type": "execute_result"
    },
    {
     "data": {
      "image/png": "[encoded data removed]",
      "text/plain": [
       "<Figure size 1300x700 with 1 Axes>"
      ]
     },
     "metadata": {},
     "output_type": "display_data"
    }
   ],
   "source": [
    "import matplotlib.pyplot as plt\n",
    "import seaborn as sns\n",
    "\n",
    "plt.figure(figsize=(13,7))\n",
    "sns.boxplot(data = df, x='Star type', y='Radius(R/Ro)', color='lightgreen')\n",
    "\n",
    "plt.yscale('log')                \n",
    "plt.title('Radius Distribution by Star Type')\n",
    "plt.xlabel('Star Type')\n",
    "plt.ylabel('Radius(R/Ro)')"
   ]
  },
  {
   "cell_type": "code",
   "execution_count": 134,
   "metadata": {},
   "outputs": [
    {
     "data": {
      "text/plain": [
       "Text(0, 0.5, 'Absolute magnitude(Mv)')"
      ]
     },
     "execution_count": 134,
     "metadata": {},
     "output_type": "execute_result"
    },
    {
     "data": {
      "image/png": "[encoded data removed]",
      "text/plain": [
       "<Figure size 1300x700 with 1 Axes>"
      ]
     },
     "metadata": {},
     "output_type": "display_data"
    }
   ],
   "source": [
    "plt.figure(figsize=(13,7))\n",
    "sns.boxplot(data = df, x='Star type', y='Absolute magnitude(Mv)', color='lavender')\n",
    "\n",
    "plt.title('Absolute Magnitude Distribution by Star Type')\n",
    "plt.xlabel('Star Type')\n",
    "plt.ylabel('Absolute magnitude(Mv)')"
   ]
  },
  {
   "cell_type": "code",
   "execution_count": 131,
   "metadata": {},
   "outputs": [
    {
     "data": {
      "text/html": [
       "<div>\n",
       "<style scoped>\n",
       "    .dataframe tbody tr th:only-of-type {\n",
       "        vertical-align: middle;\n",
       "    }\n",
       "\n",
       "    .dataframe tbody tr th {\n",
       "        vertical-align: top;\n",
       "    }\n",
       "\n",
       "    .dataframe thead th {\n",
       "        text-align: right;\n",
       "    }\n",
       "</style>\n",
       "<table border=\"1\" class=\"dataframe\">\n",
       "  <thead>\n",
       "    <tr style=\"text-align: right;\">\n",
       "      <th></th>\n",
       "      <th>Temperature (K)</th>\n",
       "      <th>Luminosity(L/Lo)</th>\n",
       "      <th>Radius(R/Ro)</th>\n",
       "      <th>Absolute magnitude(Mv)</th>\n",
       "      <th>Star color</th>\n",
       "      <th>Spectral Class</th>\n",
       "      <th>Actual type</th>\n",
       "      <th>Predicted type</th>\n",
       "    </tr>\n",
       "  </thead>\n",
       "  <tbody>\n",
       "    <tr>\n",
       "      <th>24</th>\n",
       "      <td>4077</td>\n",
       "      <td>0.085</td>\n",
       "      <td>0.795</td>\n",
       "      <td>6.228</td>\n",
       "      <td>18</td>\n",
       "      <td>4</td>\n",
       "      <td>3</td>\n",
       "      <td>1</td>\n",
       "    </tr>\n",
       "  </tbody>\n",
       "</table>\n",
       "</div>"
      ],
      "text/plain": [
       "    Temperature (K)  Luminosity(L/Lo)  Radius(R/Ro)  Absolute magnitude(Mv)  \\\n",
       "24             4077             0.085         0.795                   6.228   \n",
       "\n",
       "    Star color  Spectral Class  Actual type  Predicted type  \n",
       "24          18               4            3               1  "
      ]
     },
     "execution_count": 131,
     "metadata": {},
     "output_type": "execute_result"
    }
   ],
   "source": [
    "inacc = df_pred[df_pred['Actual type'] != df_pred['Predicted type']]\n",
    "inacc"
   ]
  },
  {
   "cell_type": "markdown",
   "metadata": {},
   "source": [
    "What these graphs show:\n",
    "\n",
    "We can see here that there was only 1 inaccurate prediction in the sample tested, and it was between a Star Type 3 (Main-Sequence ) and Star Type 1 (Red Dwarf). As seen in the graph, there is a small overlap between the two in terms of Radius, which can explain the small inaccuracy of the model. In this case, we can use a different parameter, such as Absolute Magnitude to confirm the classification. Still, given that there is only 1 misprediction, using Radius and Absolute Magnitude as a larger factors of classifying stars seems to be effective.\n",
    "\n",
    "Additionally, for the Radius graph, using a log‐scaled y-axis allows us see all six types side by side, despite  their typical radii spanning over five orders of magnitude. This plot demonstrates why radius is such a great feature for distinguishing stellar classes, and why it was so effective for our model to predict star types using it as a parameter. In general, given these two parameters, there is a clear distinction in stars, making it simple to classify the star."
   ]
  },
  {
   "cell_type": "markdown",
   "metadata": {},
   "source": [
    "<h1>Overall Summary</h1>"
   ]
  },
  {
   "cell_type": "markdown",
   "metadata": {},
   "source": [
    "In this project, I explored a 240-star dataset evenly split into six stellar classes (0 – 5) with features including Temperature, Luminosity, Radius, Absolute Magnitude, Star Color, and Spectral Class. My Exploratory Data Analysis confirmed zero missing values and balanced class counts of 40 stars in each category. I then used **LabelEncoder** to turn my strings into numbers and trained a **Random Forest classifier** (with 100 trees) to predict star type from those features and achieved 99% accuracy on 72 test stars. Feature importances showed **Radius** (~0.314) and **Absolute Magnitude** (~0.294) as the strongest factors of prediction, followed by Luminosity, Temperature, and Spectral Class. It also showed that Star color was barely a deciding factor in classifiying star types (under ~0.03). The boxplot I created to measure **Radius vs. Star Type** revealed that stellar radius spans over five orders of magnitude, from white dwarfs with medians near 0.01 R☉ (type 2) up to hypergiants with medians around 1,000 R☉ (type 5), making it a great predicting feature for classification. The **Absolute Magnitude vs. Star Type** boxplot showed that the absolute magnitude also ranges from medians around -10 (type 5) to 17 (type 0), making it also a great way to predict star classification.\n",
    "\n",
    "This workflow demonstrates that even a straightforward ensemble model can classify stars based on basic physical properties, and the visualizations prove why those features carry so much categorization power. Overall, this project highlights how data science techniques can be used to translate raw astrophysical measurements into automated, interpretable stellar - or even other celestial objects - classifications, in exactly the kind of real-world intersection I’m passionate about.\n",
    "\n"
   ]
  }
 ],
 "metadata": {
  "kernelspec": {
   "display_name": "Python 3",
   "language": "python",
   "name": "python3"
  },
  "language_info": {
   "codemirror_mode": {
    "name": "ipython",
    "version": 3
   },
   "file_extension": ".py",
   "mimetype": "text/x-python",
   "name": "python",
   "nbconvert_exporter": "python",
   "pygments_lexer": "ipython3",
   "version": "3.12.8"
  }
 },
 "nbformat": 4,
 "nbformat_minor": 2
}
