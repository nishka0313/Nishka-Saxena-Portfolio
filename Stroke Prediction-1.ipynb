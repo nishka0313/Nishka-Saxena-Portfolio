{
 "cells": [
  {
   "cell_type": "code",
   "execution_count": 230,
   "metadata": {},
   "outputs": [],
   "source": [
    "import pandas as pd\n",
    "import seaborn as sns\n",
    "import matplotlib.pyplot as plt\n",
    "\n",
    "df = pd.read_csv('stroke_prediction_dataset.csv')"
   ]
  },
  {
   "cell_type": "markdown",
   "metadata": {},
   "source": [
    "<h2>Random Forest</h2>"
   ]
  },
  {
   "cell_type": "code",
   "execution_count": 231,
   "metadata": {},
   "outputs": [],
   "source": [
    "import pandas as pd\n",
    "from sklearn.model_selection import train_test_split\n",
    "from sklearn.preprocessing import LabelEncoder, StandardScaler\n",
    "from sklearn.ensemble import RandomForestClassifier\n",
    "from sklearn.metrics import (confusion_matrix, classification_report, accuracy_score\n",
    ")"
   ]
  },
  {
   "cell_type": "code",
   "execution_count": 232,
   "metadata": {},
   "outputs": [
    {
     "name": "stdout",
     "output_type": "stream",
     "text": [
      "\n",
      "Confusion Matrix:\n",
      " [[830 676]\n",
      " [801 693]]\n",
      "\n",
      "Classification Report:\n",
      "               precision    recall  f1-score   support\n",
      "\n",
      "           0       0.51      0.55      0.53      1506\n",
      "           1       0.51      0.46      0.48      1494\n",
      "\n",
      "    accuracy                           0.51      3000\n",
      "   macro avg       0.51      0.51      0.51      3000\n",
      "weighted avg       0.51      0.51      0.51      3000\n",
      "\n",
      "\n",
      "Accuracy: 0.5076666666666667\n"
     ]
    }
   ],
   "source": [
    "df = df.drop(columns=[\"Patient ID\", \"Patient Name\"])\n",
    "\n",
    "df[\"stroke\"] = df[\"Diagnosis\"].apply(lambda x: 1 if x == \"Stroke\" else 0)\n",
    "df = df.drop(columns=[\"Diagnosis\"])\n",
    "\n",
    "categorical_cols = df.select_dtypes(include='object').columns.tolist()\n",
    "\n",
    "label_encoders = {}\n",
    "for col in categorical_cols:\n",
    "    le = LabelEncoder()\n",
    "    df[col] = le.fit_transform(df[col])\n",
    "    label_encoders[col] = le\n",
    "\n",
    "X = df.drop(\"stroke\", axis=1)\n",
    "y = df[\"stroke\"]\n",
    "\n",
    "scaler = StandardScaler()\n",
    "X_scaled = scaler.fit_transform(X)\n",
    "\n",
    "X_train, X_test, y_train, y_test = train_test_split(\n",
    "    X_scaled, y, test_size=0.2, stratify=y, random_state=42\n",
    ")\n",
    "\n",
    "rf = RandomForestClassifier(class_weight='balanced', random_state=42)\n",
    "rf.fit(X_train, y_train)\n",
    "\n",
    "y_pred = rf.predict(X_test)\n",
    "if rf.n_classes_ == 2:\n",
    "    y_prob = rf.predict_proba(X_test)[:, 1]\n",
    "else:\n",
    "    y_prob = np.zeros_like(y_test)  # fallback\n",
    "\n",
    "print(\"\\nConfusion Matrix:\\n\", confusion_matrix(y_test, y_pred))\n",
    "print(\"\\nClassification Report:\\n\", classification_report(y_test, y_pred))\n",
    "print(\"\\nAccuracy:\", accuracy_score(y_test, y_pred))\n"
   ]
  },
  {
   "cell_type": "markdown",
   "metadata": {},
   "source": [
    "<h2>Logistic Regression</h2>"
   ]
  },
  {
   "cell_type": "code",
   "execution_count": 233,
   "metadata": {},
   "outputs": [],
   "source": [
    "import pandas as pd\n",
    "import numpy as np\n",
    "from sklearn.model_selection import train_test_split\n",
    "from sklearn.preprocessing import LabelEncoder, StandardScaler\n",
    "from sklearn.linear_model import LogisticRegression\n",
    "from sklearn.metrics import classification_report, confusion_matrix, accuracy_score"
   ]
  },
  {
   "cell_type": "code",
   "execution_count": 234,
   "metadata": {},
   "outputs": [
    {
     "name": "stdout",
     "output_type": "stream",
     "text": [
      "\n",
      "Confusion Matrix:\n",
      " [[863 618]\n",
      " [856 663]]\n",
      "\n",
      "Classification Report:\n",
      "               precision    recall  f1-score   support\n",
      "\n",
      "           0       0.50      0.58      0.54      1481\n",
      "           1       0.52      0.44      0.47      1519\n",
      "\n",
      "    accuracy                           0.51      3000\n",
      "   macro avg       0.51      0.51      0.51      3000\n",
      "weighted avg       0.51      0.51      0.51      3000\n",
      "\n",
      "Accuracy: 0.5086666666666667\n"
     ]
    }
   ],
   "source": [
    "df = pd.read_csv(\"stroke_prediction_dataset.csv\")\n",
    "\n",
    "df[[\"Systolic\", \"Diastolic\"]] = df[\"Blood Pressure Levels\"].str.split(\"/\", expand=True).astype(float)\n",
    "\n",
    "df[\"HDL\"] = df[\"Cholesterol Levels\"].str.extract(r\"HDL:\\s*(\\d+)\").astype(float)\n",
    "df[\"LDL\"] = df[\"Cholesterol Levels\"].str.extract(r\"LDL:\\s*(\\d+)\").astype(float)\n",
    "\n",
    "df.drop(columns=[\"Patient ID\", \"Patient Name\", \"Symptoms\", \"Blood Pressure Levels\", \"Cholesterol Levels\"], inplace=True)\n",
    "\n",
    "label_encoders = {}\n",
    "categorical_cols = df.select_dtypes(include=[\"object\"]).columns\n",
    "\n",
    "for col in categorical_cols:\n",
    "    le = LabelEncoder()\n",
    "    df[col] = le.fit_transform(df[col])\n",
    "    label_encoders[col] = le\n",
    "\n",
    "target_encoder = LabelEncoder()\n",
    "df[\"Diagnosis\"] = target_encoder.fit_transform(df[\"Diagnosis\"])  # Stroke=1, No Stroke=0\n",
    "\n",
    "X = df.drop(\"Diagnosis\", axis=1)\n",
    "y = df[\"Diagnosis\"]\n",
    "\n",
    "X_train, X_test, y_train, y_test = train_test_split(X, y, test_size=0.2, random_state=42)\n",
    "\n",
    "scaler = StandardScaler()\n",
    "X_train_scaled = scaler.fit_transform(X_train)\n",
    "X_test_scaled = scaler.transform(X_test)\n",
    "\n",
    "model = LogisticRegression(max_iter=1000)\n",
    "model.fit(X_train_scaled, y_train)\n",
    "\n",
    "y_pred = model.predict(X_test_scaled)\n",
    "\n",
    "print(\"\\nConfusion Matrix:\\n\", confusion_matrix(y_test, y_pred))\n",
    "print(\"\\nClassification Report:\\n\", classification_report(y_test, y_pred))\n",
    "print(\"Accuracy:\", accuracy_score(y_test, y_pred))"
   ]
  },
  {
   "cell_type": "markdown",
   "metadata": {},
   "source": [
    "<h2>XGBoost</h2>"
   ]
  },
  {
   "cell_type": "code",
   "execution_count": 235,
   "metadata": {},
   "outputs": [],
   "source": [
    "import pandas as pd\n",
    "import xgboost as xgb\n",
    "from sklearn.model_selection import train_test_split\n",
    "from sklearn.preprocessing import LabelEncoder\n",
    "from sklearn.metrics import accuracy_score, classification_report, confusion_matrix"
   ]
  },
  {
   "cell_type": "code",
   "execution_count": 236,
   "metadata": {},
   "outputs": [
    {
     "name": "stdout",
     "output_type": "stream",
     "text": [
      "\n",
      "Confusion Matrix:\n",
      " [[765 716]\n",
      " [746 773]]\n",
      "\n",
      "Classification Report:\n",
      "               precision    recall  f1-score   support\n",
      "\n",
      "           0       0.51      0.52      0.51      1481\n",
      "           1       0.52      0.51      0.51      1519\n",
      "\n",
      "    accuracy                           0.51      3000\n",
      "   macro avg       0.51      0.51      0.51      3000\n",
      "weighted avg       0.51      0.51      0.51      3000\n",
      "\n",
      "Accuracy: 0.5126666666666667\n"
     ]
    }
   ],
   "source": [
    "df = pd.read_csv(\"stroke_prediction_dataset.csv\")\n",
    "\n",
    "df = df.drop(columns=[\"Patient ID\", \"Patient Name\", \"Symptoms\"])  # 'Symptoms' lot of missing data\n",
    "\n",
    "label_encoders = {}\n",
    "for col in df.select_dtypes(include=[\"object\"]).columns:\n",
    "    le = LabelEncoder()\n",
    "    df[col] = df[col].astype(str) \n",
    "    df[col] = le.fit_transform(df[col])\n",
    "    label_encoders[col] = le\n",
    "\n",
    "X = df.drop(columns=[\"Diagnosis\"])\n",
    "y = df[\"Diagnosis\"]\n",
    "\n",
    "X_train, X_test, y_train, y_test = train_test_split(X, y, test_size=0.2, random_state=42)\n",
    "\n",
    "model = xgb.XGBClassifier(\n",
    "    objective=\"binary:logistic\",\n",
    "    eval_metric=\"logloss\",\n",
    "    n_estimators=200,\n",
    "    learning_rate=0.1,\n",
    "    max_depth=5,\n",
    "    random_state=42\n",
    ")\n",
    "\n",
    "model.fit(X_train, y_train)\n",
    "\n",
    "y_pred = model.predict(X_test)\n",
    "\n",
    "print(\"\\nConfusion Matrix:\\n\", confusion_matrix(y_test, y_pred))\n",
    "print(\"\\nClassification Report:\\n\", classification_report(y_test, y_pred))\n",
    "print(\"Accuracy:\", accuracy_score(y_test, y_pred))"
   ]
  }
 ],
 "metadata": {
  "kernelspec": {
   "display_name": "Python 3",
   "language": "python",
   "name": "python3"
  },
  "language_info": {
   "codemirror_mode": {
    "name": "ipython",
    "version": 3
   },
   "file_extension": ".py",
   "mimetype": "text/x-python",
   "name": "python",
   "nbconvert_exporter": "python",
   "pygments_lexer": "ipython3",
   "version": "3.12.8"
  }
 },
 "nbformat": 4,
 "nbformat_minor": 2
}
